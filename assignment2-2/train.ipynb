{
 "cells": [
  {
   "cell_type": "code",
   "execution_count": 5,
   "metadata": {},
   "outputs": [],
   "source": [
    "import tqdm\n",
    "import csv\n",
    "from torch.utils.data import Dataset\n",
    "from torch.utils.data import DataLoader\n",
    "import torch\n",
    "import torch.optim as optim\n",
    "from torch.autograd import Variable\n",
    "import tqdm\n",
    "import numpy as np\n",
    "from FCN import FullyConnectedNet\n",
    "import torch.nn as nn"
   ]
  },
  {
   "cell_type": "code",
   "execution_count": 9,
   "metadata": {},
   "outputs": [],
   "source": [
    "# dataset define\n",
    "class Dataset(Dataset):\n",
    "    def __init__(self, method):\n",
    "        self.root = '/Users/daehyeon/Desktop/수업/컴퓨터비전/final/data/' #Change this path\n",
    "        self.x_data = []\n",
    "        self.y_data = []\n",
    "        if method == 'train':\n",
    "            self.root = self.root + 'train_data.csv'\n",
    "            with open(self.root, newline='') as csvfile:\n",
    "                data_reader = csv.reader(csvfile, delimiter=',')\n",
    "                data = list(data_reader)\n",
    "                for i in range(len(data)):\n",
    "                    x_float_data = list(map(float, data[i][:-1])) # String list to float list\n",
    "                    self.x_data.append(x_float_data)\n",
    "                    \n",
    "                    self.y_data.append(int(data[i][-1]))\n",
    "                    \n",
    "\n",
    "        elif method == 'val':\n",
    "            self.root = self.root + 'val_data.csv'\n",
    "            with open(self.root, newline='') as csvfile:\n",
    "                data_reader = csv.reader(csvfile, delimiter=',')\n",
    "                data = list(data_reader)\n",
    "                for i in range(len(data)):\n",
    "                    x_float_data = list(map(float, data[i][:-1])) # String list to float list\n",
    "                    self.x_data.append(x_float_data)\n",
    "                    \n",
    "                    self.y_data.append(int(data[i][-1]))\n",
    "                    \n",
    "    def _one_hot_encoding(self, index):\n",
    "        result = [0, 0, 0]\n",
    "        result[index] = 1\n",
    "        return result\n",
    "    \n",
    "    def __len__(self):\n",
    "        return len(self.x_data)\n",
    "\n",
    "    def __getitem__(self, idx):\n",
    "        return torch.FloatTensor(self.x_data[idx]), torch.from_numpy(np.array(self.y_data[idx]))\n"
   ]
  },
  {
   "cell_type": "code",
   "execution_count": 23,
   "metadata": {},
   "outputs": [],
   "source": [
    "# hyperparameters\n",
    "epochs = 100\n",
    "batch_size = 50\n",
    "learning_rate = 0.00005"
   ]
  },
  {
   "cell_type": "code",
   "execution_count": 10,
   "metadata": {},
   "outputs": [
    {
     "name": "stderr",
     "output_type": "stream",
     "text": [
      "  0%|          | 0/101 [00:00<?, ?it/s]/Users/daehyeon/Desktop/수업/컴퓨터비전/final/FCN.py:20: UserWarning: Implicit dimension choice for log_softmax has been deprecated. Change the call to include dim=X as an argument.\n",
      "  return F.log_softmax(x)\n",
      "  2%|▏         | 2/101 [00:00<00:08, 11.74it/s]"
     ]
    },
    {
     "name": "stdout",
     "output_type": "stream",
     "text": [
      "Epoch: 0 - Accuracy: 0.343874\n",
      "Epoch: 1 - Accuracy: 0.343874\n",
      "Epoch: 2 - Accuracy: 0.361660\n"
     ]
    },
    {
     "name": "stderr",
     "output_type": "stream",
     "text": [
      "  6%|▌         | 6/101 [00:00<00:07, 12.03it/s]"
     ]
    },
    {
     "name": "stdout",
     "output_type": "stream",
     "text": [
      "Epoch: 3 - Accuracy: 0.426877\n",
      "Epoch: 4 - Accuracy: 0.559289\n",
      "Epoch: 5 - Accuracy: 0.719368\n"
     ]
    },
    {
     "name": "stderr",
     "output_type": "stream",
     "text": [
      "\r",
      "  8%|▊         | 8/101 [00:00<00:08, 11.49it/s]"
     ]
    },
    {
     "name": "stdout",
     "output_type": "stream",
     "text": [
      "Epoch: 6 - Accuracy: 0.808300\n",
      "Epoch: 7 - Accuracy: 0.851779\n",
      "Epoch: 8 - Accuracy: 0.889328\n"
     ]
    },
    {
     "name": "stderr",
     "output_type": "stream",
     "text": [
      " 11%|█         | 11/101 [00:00<00:08, 10.82it/s]"
     ]
    },
    {
     "name": "stdout",
     "output_type": "stream",
     "text": [
      "Epoch: 9 - Accuracy: 0.913043\n",
      "Epoch: 10 - Accuracy: 0.930830\n"
     ]
    },
    {
     "name": "stderr",
     "output_type": "stream",
     "text": [
      " 13%|█▎        | 13/101 [00:01<00:11,  7.54it/s]"
     ]
    },
    {
     "name": "stdout",
     "output_type": "stream",
     "text": [
      "Epoch: 11 - Accuracy: 0.934783\n",
      "Epoch: 12 - Accuracy: 0.936759\n"
     ]
    },
    {
     "name": "stderr",
     "output_type": "stream",
     "text": [
      " 15%|█▍        | 15/101 [00:01<00:10,  7.94it/s]"
     ]
    },
    {
     "name": "stdout",
     "output_type": "stream",
     "text": [
      "Epoch: 13 - Accuracy: 0.944664\n",
      "Epoch: 14 - Accuracy: 0.948617\n"
     ]
    },
    {
     "name": "stderr",
     "output_type": "stream",
     "text": [
      " 17%|█▋        | 17/101 [00:01<00:10,  8.18it/s]"
     ]
    },
    {
     "name": "stdout",
     "output_type": "stream",
     "text": [
      "Epoch: 15 - Accuracy: 0.950593\n",
      "Epoch: 16 - Accuracy: 0.956522\n"
     ]
    },
    {
     "name": "stderr",
     "output_type": "stream",
     "text": [
      " 19%|█▉        | 19/101 [00:02<00:09,  8.69it/s]"
     ]
    },
    {
     "name": "stdout",
     "output_type": "stream",
     "text": [
      "Epoch: 17 - Accuracy: 0.962451\n",
      "Epoch: 18 - Accuracy: 0.970356\n"
     ]
    },
    {
     "name": "stderr",
     "output_type": "stream",
     "text": [
      " 21%|██        | 21/101 [00:02<00:08,  9.09it/s]"
     ]
    },
    {
     "name": "stdout",
     "output_type": "stream",
     "text": [
      "Epoch: 19 - Accuracy: 0.974308\n",
      "Epoch: 20 - Accuracy: 0.974308\n"
     ]
    },
    {
     "name": "stderr",
     "output_type": "stream",
     "text": [
      " 23%|██▎       | 23/101 [00:02<00:08,  8.89it/s]"
     ]
    },
    {
     "name": "stdout",
     "output_type": "stream",
     "text": [
      "Epoch: 21 - Accuracy: 0.974308\n",
      "Epoch: 22 - Accuracy: 0.974308\n",
      "Epoch: 23 - Accuracy: 0.976285\n"
     ]
    },
    {
     "name": "stderr",
     "output_type": "stream",
     "text": [
      " 26%|██▌       | 26/101 [00:02<00:08,  9.33it/s]"
     ]
    },
    {
     "name": "stdout",
     "output_type": "stream",
     "text": [
      "Epoch: 24 - Accuracy: 0.978261\n",
      "Epoch: 25 - Accuracy: 0.978261\n"
     ]
    },
    {
     "name": "stderr",
     "output_type": "stream",
     "text": [
      " 29%|██▊       | 29/101 [00:03<00:07,  9.87it/s]"
     ]
    },
    {
     "name": "stdout",
     "output_type": "stream",
     "text": [
      "Epoch: 26 - Accuracy: 0.978261\n",
      "Epoch: 27 - Accuracy: 0.978261\n",
      "Epoch: 28 - Accuracy: 0.980237\n"
     ]
    },
    {
     "name": "stderr",
     "output_type": "stream",
     "text": [
      "\r",
      " 31%|███       | 31/101 [00:03<00:06, 10.14it/s]"
     ]
    },
    {
     "name": "stdout",
     "output_type": "stream",
     "text": [
      "Epoch: 29 - Accuracy: 0.982213\n",
      "Epoch: 30 - Accuracy: 0.982213\n",
      "Epoch: 31 - Accuracy: 0.982213\n"
     ]
    },
    {
     "name": "stderr",
     "output_type": "stream",
     "text": [
      " 34%|███▎      | 34/101 [00:03<00:06,  9.62it/s]"
     ]
    },
    {
     "name": "stdout",
     "output_type": "stream",
     "text": [
      "Epoch: 32 - Accuracy: 0.980237\n",
      "Epoch: 33 - Accuracy: 0.980237\n"
     ]
    },
    {
     "name": "stderr",
     "output_type": "stream",
     "text": [
      " 36%|███▌      | 36/101 [00:03<00:07,  8.97it/s]"
     ]
    },
    {
     "name": "stdout",
     "output_type": "stream",
     "text": [
      "Epoch: 34 - Accuracy: 0.980237\n",
      "Epoch: 35 - Accuracy: 0.982213\n"
     ]
    },
    {
     "name": "stderr",
     "output_type": "stream",
     "text": [
      " 38%|███▊      | 38/101 [00:04<00:07,  8.35it/s]"
     ]
    },
    {
     "name": "stdout",
     "output_type": "stream",
     "text": [
      "Epoch: 36 - Accuracy: 0.982213\n",
      "Epoch: 37 - Accuracy: 0.982213\n"
     ]
    },
    {
     "name": "stderr",
     "output_type": "stream",
     "text": [
      " 40%|███▉      | 40/101 [00:04<00:07,  7.99it/s]"
     ]
    },
    {
     "name": "stdout",
     "output_type": "stream",
     "text": [
      "Epoch: 38 - Accuracy: 0.982213\n",
      "Epoch: 39 - Accuracy: 0.984190\n"
     ]
    },
    {
     "name": "stderr",
     "output_type": "stream",
     "text": [
      " 42%|████▏     | 42/101 [00:04<00:07,  8.35it/s]"
     ]
    },
    {
     "name": "stdout",
     "output_type": "stream",
     "text": [
      "Epoch: 40 - Accuracy: 0.984190\n",
      "Epoch: 41 - Accuracy: 0.988142\n"
     ]
    },
    {
     "name": "stderr",
     "output_type": "stream",
     "text": [
      " 44%|████▎     | 44/101 [00:04<00:06,  8.64it/s]"
     ]
    },
    {
     "name": "stdout",
     "output_type": "stream",
     "text": [
      "Epoch: 42 - Accuracy: 0.988142\n",
      "Epoch: 43 - Accuracy: 0.990119\n"
     ]
    },
    {
     "name": "stderr",
     "output_type": "stream",
     "text": [
      "\r",
      " 46%|████▌     | 46/101 [00:04<00:06,  8.92it/s]"
     ]
    },
    {
     "name": "stdout",
     "output_type": "stream",
     "text": [
      "Epoch: 44 - Accuracy: 0.990119\n",
      "Epoch: 45 - Accuracy: 0.992095\n"
     ]
    },
    {
     "name": "stderr",
     "output_type": "stream",
     "text": [
      " 49%|████▊     | 49/101 [00:05<00:05,  9.43it/s]"
     ]
    },
    {
     "name": "stdout",
     "output_type": "stream",
     "text": [
      "Epoch: 46 - Accuracy: 0.992095\n",
      "Epoch: 47 - Accuracy: 0.992095\n",
      "Epoch: 48 - Accuracy: 0.992095\n"
     ]
    },
    {
     "name": "stderr",
     "output_type": "stream",
     "text": [
      " 50%|█████     | 51/101 [00:05<00:05,  8.78it/s]"
     ]
    },
    {
     "name": "stdout",
     "output_type": "stream",
     "text": [
      "Epoch: 49 - Accuracy: 0.992095\n",
      "Epoch: 50 - Accuracy: 0.992095\n"
     ]
    },
    {
     "name": "stderr",
     "output_type": "stream",
     "text": [
      " 52%|█████▏    | 53/101 [00:05<00:05,  8.69it/s]"
     ]
    },
    {
     "name": "stdout",
     "output_type": "stream",
     "text": [
      "Epoch: 51 - Accuracy: 0.992095\n",
      "Epoch: 52 - Accuracy: 0.992095\n"
     ]
    },
    {
     "name": "stderr",
     "output_type": "stream",
     "text": [
      " 54%|█████▍    | 55/101 [00:05<00:05,  8.54it/s]"
     ]
    },
    {
     "name": "stdout",
     "output_type": "stream",
     "text": [
      "Epoch: 53 - Accuracy: 0.992095\n",
      "Epoch: 54 - Accuracy: 0.992095\n"
     ]
    },
    {
     "name": "stderr",
     "output_type": "stream",
     "text": [
      "\r",
      " 56%|█████▋    | 57/101 [00:06<00:05,  8.67it/s]"
     ]
    },
    {
     "name": "stdout",
     "output_type": "stream",
     "text": [
      "Epoch: 55 - Accuracy: 0.992095\n",
      "Epoch: 56 - Accuracy: 0.992095\n"
     ]
    },
    {
     "name": "stderr",
     "output_type": "stream",
     "text": [
      " 58%|█████▊    | 59/101 [00:06<00:05,  8.35it/s]"
     ]
    },
    {
     "name": "stdout",
     "output_type": "stream",
     "text": [
      "Epoch: 57 - Accuracy: 0.992095\n",
      "Epoch: 58 - Accuracy: 0.994071\n"
     ]
    },
    {
     "name": "stderr",
     "output_type": "stream",
     "text": [
      " 60%|██████    | 61/101 [00:06<00:04,  8.98it/s]"
     ]
    },
    {
     "name": "stdout",
     "output_type": "stream",
     "text": [
      "Epoch: 59 - Accuracy: 0.994071\n",
      "Epoch: 60 - Accuracy: 0.994071\n"
     ]
    },
    {
     "name": "stderr",
     "output_type": "stream",
     "text": [
      " 62%|██████▏   | 63/101 [00:06<00:04,  8.90it/s]"
     ]
    },
    {
     "name": "stdout",
     "output_type": "stream",
     "text": [
      "Epoch: 61 - Accuracy: 0.994071\n",
      "Epoch: 62 - Accuracy: 0.994071\n"
     ]
    },
    {
     "name": "stderr",
     "output_type": "stream",
     "text": [
      " 65%|██████▌   | 66/101 [00:07<00:03,  9.37it/s]"
     ]
    },
    {
     "name": "stdout",
     "output_type": "stream",
     "text": [
      "Epoch: 63 - Accuracy: 0.994071\n",
      "Epoch: 64 - Accuracy: 0.994071\n",
      "Epoch: 65 - Accuracy: 0.994071\n"
     ]
    },
    {
     "name": "stderr",
     "output_type": "stream",
     "text": [
      " 67%|██████▋   | 68/101 [00:07<00:03,  8.36it/s]"
     ]
    },
    {
     "name": "stdout",
     "output_type": "stream",
     "text": [
      "Epoch: 66 - Accuracy: 0.994071\n",
      "Epoch: 67 - Accuracy: 0.994071\n"
     ]
    },
    {
     "name": "stderr",
     "output_type": "stream",
     "text": [
      " 69%|██████▉   | 70/101 [00:07<00:03,  7.75it/s]"
     ]
    },
    {
     "name": "stdout",
     "output_type": "stream",
     "text": [
      "Epoch: 68 - Accuracy: 0.994071\n",
      "Epoch: 69 - Accuracy: 0.994071\n"
     ]
    },
    {
     "name": "stderr",
     "output_type": "stream",
     "text": [
      " 71%|███████▏  | 72/101 [00:07<00:03,  7.75it/s]"
     ]
    },
    {
     "name": "stdout",
     "output_type": "stream",
     "text": [
      "Epoch: 70 - Accuracy: 0.994071\n",
      "Epoch: 71 - Accuracy: 0.996047\n"
     ]
    },
    {
     "name": "stderr",
     "output_type": "stream",
     "text": [
      " 73%|███████▎  | 74/101 [00:08<00:03,  8.11it/s]"
     ]
    },
    {
     "name": "stdout",
     "output_type": "stream",
     "text": [
      "Epoch: 72 - Accuracy: 0.996047\n",
      "Epoch: 73 - Accuracy: 0.996047\n"
     ]
    },
    {
     "name": "stderr",
     "output_type": "stream",
     "text": [
      " 75%|███████▌  | 76/101 [00:08<00:03,  7.62it/s]"
     ]
    },
    {
     "name": "stdout",
     "output_type": "stream",
     "text": [
      "Epoch: 74 - Accuracy: 0.996047\n",
      "Epoch: 75 - Accuracy: 0.996047\n"
     ]
    },
    {
     "name": "stderr",
     "output_type": "stream",
     "text": [
      " 77%|███████▋  | 78/101 [00:08<00:03,  7.49it/s]"
     ]
    },
    {
     "name": "stdout",
     "output_type": "stream",
     "text": [
      "Epoch: 76 - Accuracy: 0.996047\n",
      "Epoch: 77 - Accuracy: 0.996047\n"
     ]
    },
    {
     "name": "stderr",
     "output_type": "stream",
     "text": [
      " 79%|███████▉  | 80/101 [00:09<00:02,  7.37it/s]"
     ]
    },
    {
     "name": "stdout",
     "output_type": "stream",
     "text": [
      "Epoch: 78 - Accuracy: 0.996047\n",
      "Epoch: 79 - Accuracy: 0.996047\n"
     ]
    },
    {
     "name": "stderr",
     "output_type": "stream",
     "text": [
      " 81%|████████  | 82/101 [00:09<00:02,  7.92it/s]"
     ]
    },
    {
     "name": "stdout",
     "output_type": "stream",
     "text": [
      "Epoch: 80 - Accuracy: 0.996047\n",
      "Epoch: 81 - Accuracy: 0.996047\n"
     ]
    },
    {
     "name": "stderr",
     "output_type": "stream",
     "text": [
      " 83%|████████▎ | 84/101 [00:09<00:01,  8.58it/s]"
     ]
    },
    {
     "name": "stdout",
     "output_type": "stream",
     "text": [
      "Epoch: 82 - Accuracy: 0.996047\n",
      "Epoch: 83 - Accuracy: 0.996047\n"
     ]
    },
    {
     "name": "stderr",
     "output_type": "stream",
     "text": [
      " 85%|████████▌ | 86/101 [00:09<00:01,  8.71it/s]"
     ]
    },
    {
     "name": "stdout",
     "output_type": "stream",
     "text": [
      "Epoch: 84 - Accuracy: 0.996047\n",
      "Epoch: 85 - Accuracy: 0.996047\n"
     ]
    },
    {
     "name": "stderr",
     "output_type": "stream",
     "text": [
      " 87%|████████▋ | 88/101 [00:09<00:01,  8.46it/s]"
     ]
    },
    {
     "name": "stdout",
     "output_type": "stream",
     "text": [
      "Epoch: 86 - Accuracy: 0.996047\n",
      "Epoch: 87 - Accuracy: 0.996047\n"
     ]
    },
    {
     "name": "stderr",
     "output_type": "stream",
     "text": [
      " 89%|████████▉ | 90/101 [00:10<00:01,  8.58it/s]"
     ]
    },
    {
     "name": "stdout",
     "output_type": "stream",
     "text": [
      "Epoch: 88 - Accuracy: 0.996047\n",
      "Epoch: 89 - Accuracy: 0.996047\n"
     ]
    },
    {
     "name": "stderr",
     "output_type": "stream",
     "text": [
      " 91%|█████████ | 92/101 [00:10<00:01,  8.20it/s]"
     ]
    },
    {
     "name": "stdout",
     "output_type": "stream",
     "text": [
      "Epoch: 90 - Accuracy: 0.998024\n",
      "Epoch: 91 - Accuracy: 0.998024\n"
     ]
    },
    {
     "name": "stderr",
     "output_type": "stream",
     "text": [
      " 93%|█████████▎| 94/101 [00:10<00:00,  8.70it/s]"
     ]
    },
    {
     "name": "stdout",
     "output_type": "stream",
     "text": [
      "Epoch: 92 - Accuracy: 0.998024\n",
      "Epoch: 93 - Accuracy: 0.998024\n"
     ]
    },
    {
     "name": "stderr",
     "output_type": "stream",
     "text": [
      " 95%|█████████▌| 96/101 [00:10<00:00,  8.34it/s]"
     ]
    },
    {
     "name": "stdout",
     "output_type": "stream",
     "text": [
      "Epoch: 94 - Accuracy: 0.998024\n",
      "Epoch: 95 - Accuracy: 0.998024\n"
     ]
    },
    {
     "name": "stderr",
     "output_type": "stream",
     "text": [
      " 97%|█████████▋| 98/101 [00:11<00:00,  8.36it/s]"
     ]
    },
    {
     "name": "stdout",
     "output_type": "stream",
     "text": [
      "Epoch: 96 - Accuracy: 0.998024\n",
      "Epoch: 97 - Accuracy: 0.998024\n"
     ]
    },
    {
     "name": "stderr",
     "output_type": "stream",
     "text": [
      " 99%|█████████▉| 100/101 [00:11<00:00,  8.42it/s]"
     ]
    },
    {
     "name": "stdout",
     "output_type": "stream",
     "text": [
      "Epoch: 98 - Accuracy: 0.998024\n",
      "Epoch: 99 - Accuracy: 0.998024\n"
     ]
    },
    {
     "name": "stderr",
     "output_type": "stream",
     "text": [
      "100%|██████████| 101/101 [00:11<00:00,  8.76it/s]"
     ]
    },
    {
     "name": "stdout",
     "output_type": "stream",
     "text": [
      "Epoch: 100 - Accuracy: 0.998024\n"
     ]
    },
    {
     "name": "stderr",
     "output_type": "stream",
     "text": [
      "\n"
     ]
    }
   ],
   "source": [
    "# train\n",
    "net = FullyConnectedNet()\n",
    "\n",
    "dataset = Dataset(method='train')\n",
    "dataloader = DataLoader(dataset, batch_size=batch_size)\n",
    "weight_path = \"/Users/daehyeon/Desktop/수업/컴퓨터비전/final/weights/\"\n",
    "\n",
    "loss_func = nn.CrossEntropyLoss()\n",
    "optimizer = torch.optim.Adam(net.parameters(), lr=learning_rate)\n",
    "\n",
    "# learning rate scheduler helps decaying the learning rate while training a model.\n",
    "decayRate = 0.9999\n",
    "lr_scheduler = torch.optim.lr_scheduler.ExponentialLR(optimizer=optimizer, gamma=decayRate)\n",
    "\n",
    "for epoch in tqdm.tqdm(range(epochs + 1)):\n",
    "    \n",
    "    for batch_idx, samples in enumerate(dataloader):\n",
    "        x_train, y_train = samples\n",
    "        \n",
    "        net_out = net(x_train)\n",
    "        loss = loss_func(net_out, y_train)\n",
    "\n",
    "        loss.backward()\n",
    "        optimizer.step()\n",
    "        lr_scheduler.step()\n",
    "    \n",
    "    \n",
    "    # val for every epoch\n",
    "    val_dataset = Dataset(method='val')\n",
    "    val_dataloader = DataLoader(val_dataset, batch_size=batch_size)\n",
    "    val_size = val_dataset.size()\n",
    "    correct_count = 0\n",
    "    for val_batch_idx, val_samples in enumerate(val_dataloader):\n",
    "        x_val, y_val = val_samples\n",
    "        \n",
    "        net_out = net(x_val)\n",
    "        pred = net_out.argmax(dim = 1)\n",
    "        correct_count += (pred == y_val).float().sum()\n",
    "        \n",
    "        val_loss = loss_func(net_out, y_val)\n",
    "\n",
    "    print('Epoch: {} - Accuracy: {:.6f}'.format(epoch, correct_count/val_size))\n",
    "    if epoch % 10 == 0:\n",
    "        torch.save(net.state_dict(), \"_\".join([weight_path+\"weight\", str(epoch), 'model.pth']))\n"
   ]
  },
  {
   "cell_type": "code",
   "execution_count": 22,
   "metadata": {},
   "outputs": [
    {
     "data": {
      "text/plain": [
       "0"
      ]
     },
     "execution_count": 22,
     "metadata": {},
     "output_type": "execute_result"
    }
   ],
   "source": [
    "pretrained_net = FullyConnectedNet()\n",
    "pretrained_net.load_state_dict(torch.load(weight_path+\"weight_100_model.pth\"))\n",
    "\n",
    "test1_list = [0,1,2,0,1,2,0,1,2,0,1,2,0,1,2,0,1,2,0,1,2,0,1,2,0,1,2,0,1,2,0,1,2,0,1,2,0,1,2,0,1,2]\n",
    "pred = pretrained_net(torch.FloatTensor(test1_list))\n",
    "\n",
    "int(pred.argmax())"
   ]
  },
  {
   "cell_type": "code",
   "execution_count": null,
   "metadata": {},
   "outputs": [],
   "source": []
  }
 ],
 "metadata": {
  "kernelspec": {
   "display_name": "Python 3",
   "language": "python",
   "name": "python3"
  },
  "language_info": {
   "codemirror_mode": {
    "name": "ipython",
    "version": 3
   },
   "file_extension": ".py",
   "mimetype": "text/x-python",
   "name": "python",
   "nbconvert_exporter": "python",
   "pygments_lexer": "ipython3",
   "version": "3.7.9"
  }
 },
 "nbformat": 4,
 "nbformat_minor": 4
}
