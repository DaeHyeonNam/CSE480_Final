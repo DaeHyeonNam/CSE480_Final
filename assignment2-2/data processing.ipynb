{
 "cells": [
  {
   "cell_type": "code",
   "execution_count": 15,
   "metadata": {},
   "outputs": [],
   "source": [
    "import csv\n",
    "import random\n"
   ]
  },
  {
   "cell_type": "code",
   "execution_count": 16,
   "metadata": {},
   "outputs": [],
   "source": [
    "# move avg to (0,0)\n",
    "with open('./data/data.csv', newline='') as csvfile:\n",
    "    data_reader = csv.reader(csvfile, delimiter=',')\n",
    "    data = list(data_reader)\n",
    "    for row in data:\n",
    "        # Calculate avg value of x and y of one set of landmarks\n",
    "        x_sum = 0\n",
    "        y_sum = 0\n",
    "        for i in range(21):\n",
    "            x_sum += float(row[i])\n",
    "            y_sum += float(row[2*i+1])\n",
    "        x_avg = x_sum/21\n",
    "        y_avg = y_sum/21\n",
    "        \n",
    "        # move to 0,0 based on the average value\n",
    "        processed_data = []\n",
    "        for i in range(21):\n",
    "            processed_data.append(str(float(row[i]) - x_avg))\n",
    "            processed_data.append(str(float(row[2*i+1]) - y_avg))\n",
    "        processed_data.append(row[42])\n",
    "        \n",
    "        with open('./data/processed_data.csv', 'a') as writefile:\n",
    "            data_writer = csv.writer(writefile, delimiter = ',')\n",
    "            data_writer.writerow(processed_data)"
   ]
  },
  {
   "cell_type": "code",
   "execution_count": 17,
   "metadata": {},
   "outputs": [],
   "source": [
    "# mixing data\n",
    "with open('./data/processed_data.csv', newline='') as csvfile:\n",
    "    data_reader = csv.reader(csvfile, delimiter=',')\n",
    "    data = list(data_reader)\n",
    "    randomlist = random.sample(range(len(data)), len(data))\n",
    "    for index in randomlist:\n",
    "        with open('./data/processed_mixed_data.csv', 'a') as writefile:\n",
    "            data_writer = csv.writer(writefile, delimiter = ',')\n",
    "            data_writer.writerow(data[index])"
   ]
  },
  {
   "cell_type": "code",
   "execution_count": 18,
   "metadata": {},
   "outputs": [],
   "source": [
    "# train, val data division\n",
    "train_rate = 0.8\n",
    "\n",
    "with open('./data/processed_mixed_data.csv', newline='') as csvfile:\n",
    "    data_reader = csv.reader(csvfile, delimiter=',')\n",
    "    data = list(data_reader)\n",
    "    div_index = int(len(data)*train_rate)\n",
    "    for index in range(div_index):\n",
    "        with open('./data/train_data.csv', 'a') as writefile:\n",
    "            data_writer = csv.writer(writefile, delimiter = ',')\n",
    "            data_writer.writerow(data[index])\n",
    "    for index in range(div_index, len(data)):\n",
    "        with open('./data/val_data.csv', 'a') as writefile:\n",
    "            data_writer = csv.writer(writefile, delimiter = ',')\n",
    "            data_writer.writerow(data[index])\n",
    "        "
   ]
  },
  {
   "cell_type": "code",
   "execution_count": null,
   "metadata": {},
   "outputs": [],
   "source": []
  }
 ],
 "metadata": {
  "kernelspec": {
   "display_name": "Python 3",
   "language": "python",
   "name": "python3"
  },
  "language_info": {
   "codemirror_mode": {
    "name": "ipython",
    "version": 3
   },
   "file_extension": ".py",
   "mimetype": "text/x-python",
   "name": "python",
   "nbconvert_exporter": "python",
   "pygments_lexer": "ipython3",
   "version": "3.7.9"
  }
 },
 "nbformat": 4,
 "nbformat_minor": 4
}
